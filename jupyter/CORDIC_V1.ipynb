{
 "cells": [
  {
   "cell_type": "markdown",
   "metadata": {},
   "source": [
    "## 导入Overlay"
   ]
  },
  {
   "cell_type": "code",
   "execution_count": 8,
   "metadata": {},
   "outputs": [],
   "source": [
    "from pynq import Overlay\n",
    "overlay = Overlay('./cordic.bit')"
   ]
  },
  {
   "cell_type": "markdown",
   "metadata": {},
   "source": [
    "## cordic IP上层驱动"
   ]
  },
  {
   "cell_type": "code",
   "execution_count": 9,
   "metadata": {},
   "outputs": [],
   "source": [
    "from pynq import DefaultIP\n",
    "\n",
    "class cordicDriver(DefaultIP):\n",
    "    def __init__(self, description):\n",
    "        super().__init__(description=description)\n",
    "\n",
    "    bindto = ['xilinx.com:hls:cordic:1.0']\n",
    "\n",
    "    def cal_sin(self, theta):\n",
    "        self.write(0x10, theta)\n",
    "        self.write(0x00,0b1)\n",
    "        return self.read(0x18)\n",
    "    \n",
    "    def cal_cos(self, theta):\n",
    "        self.write(0x10, theta)\n",
    "        self.write(0x00, 0b1)\n",
    "        return self.read(0x28)"
   ]
  },
  {
   "cell_type": "markdown",
   "metadata": {},
   "source": [
    "# Register level driver\n",
    " - 直接读写寄存器来使用overlay中的hls ip\n",
    " - theta的数据类型为ap_fixed<28,8>"
   ]
  },
  {
   "cell_type": "code",
   "execution_count": 10,
   "metadata": {},
   "outputs": [],
   "source": [
    "# theta = 0b0011_1100_0000_0000_0000_0000_0000  #60的定点数表示\n",
    "theta = 0b0010_1101_0000_0000_0000_0000_0000  #45的定点数表示\n",
    "# theta = 0b0101_1010_0000_0000_0000_0000_0000  #90的定点数表示\n",
    "\n",
    "cordic = overlay.cordic_0\n",
    "cordic.write(0x10, theta)  #向theta寄存器写值\n",
    "cordic.write(0x00, 0b1)    #启动IP"
   ]
  },
  {
   "cell_type": "code",
   "execution_count": 11,
   "metadata": {},
   "outputs": [
    {
     "name": "stdout",
     "output_type": "stream",
     "text": [
      "741467\n",
      "741444\n"
     ]
    }
   ],
   "source": [
    "#输出正弦和余弦值，输出值为ap_fixed<28.8>定点数直接换算为十进制的数值\n",
    "cos = cordic.read(0x28)\n",
    "sin = cordic.read(0x18)\n",
    "print(cos)\n",
    "print(sin)"
   ]
  },
  {
   "cell_type": "markdown",
   "metadata": {},
   "source": [
    "## 使用上层驱动计算"
   ]
  },
  {
   "cell_type": "code",
   "execution_count": 12,
   "metadata": {},
   "outputs": [
    {
     "data": {
      "text/plain": [
       "524330"
      ]
     },
     "execution_count": 12,
     "metadata": {},
     "output_type": "execute_result"
    }
   ],
   "source": [
    "cordic.cal_sin(0b0001_1110_0000_0000_0000_0000_0000)    #sin(30°)"
   ]
  },
  {
   "cell_type": "code",
   "execution_count": 13,
   "metadata": {},
   "outputs": [
    {
     "data": {
      "text/plain": [
       "524330"
      ]
     },
     "execution_count": 13,
     "metadata": {},
     "output_type": "execute_result"
    }
   ],
   "source": [
    "cordic.cal_cos(0b0011_1100_0000_0000_0000_0000_0000)   #cos(60°)"
   ]
  },
  {
   "cell_type": "markdown",
   "metadata": {},
   "source": [
    "## 性能分析\n",
    "计算IP运行时间"
   ]
  },
  {
   "cell_type": "code",
   "execution_count": 14,
   "metadata": {},
   "outputs": [
    {
     "name": "stdout",
     "output_type": "stream",
     "text": [
      "耗时：0.0008602142333984375s\n"
     ]
    }
   ],
   "source": [
    "import time\n",
    "\n",
    "cordic.write(0x00, 0b1)\n",
    "start_time = time.time()\n",
    "while True:\n",
    "    reg = cordic.read(0x00)\n",
    "    if reg != 1:\n",
    "        break\n",
    "end_time = time.time()\n",
    "\n",
    "print(\"耗时：{}s\".format(end_time - start_time))"
   ]
  },
  {
   "cell_type": "code",
   "execution_count": null,
   "metadata": {},
   "outputs": [],
   "source": []
  }
 ],
 "metadata": {
  "kernelspec": {
   "display_name": "Python 3",
   "language": "python",
   "name": "python3"
  },
  "language_info": {
   "codemirror_mode": {
    "name": "ipython",
    "version": 3
   },
   "file_extension": ".py",
   "mimetype": "text/x-python",
   "name": "python",
   "nbconvert_exporter": "python",
   "pygments_lexer": "ipython3",
   "version": "3.8.2"
  }
 },
 "nbformat": 4,
 "nbformat_minor": 2
}
